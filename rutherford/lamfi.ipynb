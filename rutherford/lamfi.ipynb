{
 "cells": [
  {
   "cell_type": "code",
   "execution_count": 103,
   "metadata": {},
   "outputs": [
    {
     "ename": "AttributeError",
     "evalue": "module 'matplotlib' has no attribute '_version_'",
     "output_type": "error",
     "traceback": [
      "\u001b[0;31m------------------------------------------------------------------------\u001b[0m",
      "\u001b[0;31mAttributeError\u001b[0m                         Traceback (most recent call last)",
      "\u001b[0;32m<ipython-input-103-3bbf12e7f49b>\u001b[0m in \u001b[0;36m<module>\u001b[0;34m\u001b[0m\n\u001b[1;32m      6\u001b[0m \u001b[0;32mfrom\u001b[0m \u001b[0mscipy\u001b[0m\u001b[0;34m.\u001b[0m\u001b[0mstats\u001b[0m \u001b[0;32mimport\u001b[0m \u001b[0mchisquare\u001b[0m\u001b[0;34m\u001b[0m\u001b[0;34m\u001b[0m\u001b[0m\n\u001b[1;32m      7\u001b[0m \u001b[0;34m\u001b[0m\u001b[0m\n\u001b[0;32m----> 8\u001b[0;31m \u001b[0mmatplotlib\u001b[0m\u001b[0;34m.\u001b[0m\u001b[0m_version_\u001b[0m\u001b[0;34m\u001b[0m\u001b[0;34m\u001b[0m\u001b[0m\n\u001b[0m",
      "\u001b[0;31mAttributeError\u001b[0m: module 'matplotlib' has no attribute '_version_'"
     ]
    }
   ],
   "source": [
    "import numpy as np \n",
    "import matplotlib.pyplot as plt\n",
    "from numpy import trapz\n",
    "import glob\n",
    "from scipy import quisquare"
   ]
  },
  {
   "cell_type": "code",
   "execution_count": null,
   "metadata": {},
   "outputs": [],
   "source": []
  },
  {
   "cell_type": "code",
   "execution_count": 75,
   "metadata": {},
   "outputs": [],
   "source": [
    "def cross_section(Z1,Z2,Ma,Mp,Theta,K):\n",
    "    \n",
    "    Theta = np.radians(Theta)\n",
    "    \n",
    "    t = ((0.72*Z1*Z2)/K)**2\n",
    "    d = np.sqrt(1 -((Mp*np.sin(Theta))/Ma)**2)\n",
    "    g = (np.cos(Theta) + d)**2\n",
    "    f = np.sin(Theta)**4* d\n",
    "         \n",
    "    sigma = t*(g/f)\n",
    "         \n",
    "    return sigma"
   ]
  },
  {
   "cell_type": "code",
   "execution_count": 76,
   "metadata": {},
   "outputs": [],
   "source": [
    "d11 = glob.glob('*M.dat')\n",
    "d21 = glob.glob('*P.dat')\n",
    "d11.sort()\n",
    "d21.sort()\n",
    "\n",
    "d12 = glob.glob('*M.sra')\n",
    "d12.sort()"
   ]
  },
  {
   "cell_type": "code",
   "execution_count": 77,
   "metadata": {},
   "outputs": [],
   "source": [
    "alpha = []\n",
    "i = 0\n",
    "for x in d12:\n",
    "    with open (d12[i],'rb') as myfile:\n",
    "        t = str([(x.strip()) for ei, x in enumerate(myfile) if ei in [0]])\n",
    "        t = t.split(' ')\n",
    "        alpha.append(t[1])\n",
    "        i += 1\n",
    "\n",
    "i = 0\n",
    "datafixo = []\n",
    "for x in d11:\n",
    "    datafixo.append(np.loadtxt(d11[i]))\n",
    "    i += 1 \n",
    "    \n",
    "i = 0\n",
    "areafixo = []\n",
    "for x in datafixo:\n",
    "    areafixo.append(np.sum(datafixo[i][474:491]))\n",
    "    i += 1\n",
    "\n",
    "i = 0\n",
    "datamovel = []\n",
    "for x in d21:\n",
    "    datamovel.append(np.loadtxt(d21[i]))\n",
    "    i += 1 \n",
    "\n",
    "i = 0\n",
    "areamovel = []\n",
    "for x in datamovel:\n",
    "    areamovel.append(np.sum(datamovel[i][416:436]))\n",
    "    i += 1"
   ]
  },
  {
   "cell_type": "code",
   "execution_count": 78,
   "metadata": {},
   "outputs": [],
   "source": [
    "areafixo.reverse()\n",
    "areamovel.reverse()\n",
    "alpha.reverse()"
   ]
  },
  {
   "cell_type": "code",
   "execution_count": 111,
   "metadata": {},
   "outputs": [],
   "source": [
    "dsigma = cross_section(1,79,197,1,170,2.4)\n",
    "darea = np.divide(areamovel,areafixo)\n",
    "constante = 1.613 * dsigma\n",
    "\n",
    "x1 = np.arange(60,151,1)\n",
    "y1 = cross_section(1,79,197,1,x1,2.4)\n",
    "x2 = [int(x) for x in alpha]\n",
    "y2 = constante*darea"
   ]
  },
  {
   "cell_type": "code",
   "execution_count": 116,
   "metadata": {},
   "outputs": [
    {
     "data": {
      "image/png": "[encoded data removed]",
      "text/plain": [
       "<Figure size 432x288 with 1 Axes>"
      ]
     },
     "metadata": {
      "needs_background": "light"
     },
     "output_type": "display_data"
    }
   ],
   "source": [
    "plt.figure()\n",
    "\n",
    "plt.plot(x2,y2,'.')\n",
    "plt.plot(x1,y1)\n",
    "plt.xlabel(r'$\\theta$ (graus)')\n",
    "plt.ylabel(r'Seção de Choque (fm$^2$/sr)')\n",
    "\n",
    "\n",
    "plt.savefig('fig1.jpeg')"
   ]
  },
  {
   "cell_type": "code",
   "execution_count": null,
   "metadata": {},
   "outputs": [],
   "source": []
  },
  {
   "cell_type": "code",
   "execution_count": null,
   "metadata": {},
   "outputs": [],
   "source": []
  },
  {
   "cell_type": "code",
   "execution_count": null,
   "metadata": {},
   "outputs": [],
   "source": []
  },
  {
   "cell_type": "code",
   "execution_count": null,
   "metadata": {},
   "outputs": [],
   "source": []
  }
 ],
 "metadata": {
  "kernelspec": {
   "display_name": "Python 3",
   "language": "python",
   "name": "python3"
  },
  "language_info": {
   "codemirror_mode": {
    "name": "ipython",
    "version": 3
   },
   "file_extension": ".py",
   "mimetype": "text/x-python",
   "name": "python",
   "nbconvert_exporter": "python",
   "pygments_lexer": "ipython3",
   "version": "3.7.3"
  }
 },
 "nbformat": 4,
 "nbformat_minor": 4
}
